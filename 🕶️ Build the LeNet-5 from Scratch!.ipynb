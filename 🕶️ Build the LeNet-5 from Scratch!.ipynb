{
 "cells": [
  {
   "cell_type": "markdown",
   "id": "8b220885",
   "metadata": {},
   "source": [
    "# 🕶️ Build the LeNet-5 from Scratch!"
   ]
  },
  {
   "cell_type": "markdown",
   "id": "7398c462",
   "metadata": {},
   "source": [
    "## Predicting Handwritten Digits"
   ]
  },
  {
   "cell_type": "markdown",
   "id": "4edd3e37",
   "metadata": {},
   "source": [
    "<div align=\"center\">\n",
    "    <img src=\"MNIST Background Edited.jpg\" alt=\"MNIST Matrix\" style=\"width: 700px;\"> \n",
    "</div>\n",
    "<div align=\"center\">\n",
    "  If you look really closely, it's the MNIST dataset!\n",
    "</div>"
   ]
  },
  {
   "cell_type": "markdown",
   "id": "e06cc519",
   "metadata": {},
   "source": [
    "Dubbed as the \"Hello World\" of datasets, MNIST represents one of the most fundamental resources in machine learning. \n",
    "\n",
    "In this notebook, we will walk you through the process of building a **convolutional neural network** to predict handwritten digits. Specifically, we will learn how to build a **LeNet-5** model from scratch! \n",
    "\n",
    "If you're up for it, we can take a step further by applying various techniques to reduce overfitting and improve performance."
   ]
  },
  {
   "cell_type": "markdown",
   "id": "cea146da",
   "metadata": {},
   "source": [
    "---"
   ]
  },
  {
   "cell_type": "markdown",
   "id": "6a389955",
   "metadata": {},
   "source": [
    "### <font color='000000'>Table of contents<font><a class='anchor' id='top'></a>\n",
    "\n",
    "1. [Introduction](#section-one)  \n",
    "    \n",
    "2. [Get Data](#section-two)\n",
    "    \n",
    "3. [Discover & Visualize Data](#section-three)\n",
    "    \n",
    "4. [Train Model](#section-four)\n",
    "    \n",
    "5. [Test Model](#section-five) \n",
    "\n",
    "6. [A Step Further](#section-six)\n",
    "    \n",
    "7. [Conclusion](#section-seven)"
   ]
  },
  {
   "cell_type": "markdown",
   "id": "49eeb4dc",
   "metadata": {},
   "source": [
    "---"
   ]
  },
  {
   "cell_type": "markdown",
   "id": "24bbe08a",
   "metadata": {},
   "source": [
    "<a class=\"anchor\" id=\"section-one\"></a>\n",
    "## 1. Introduction\n",
    "\n",
    "We will start by loading the dataset and visualizing the images inside it. Next, we will perform **data augmentation** which creates new training variations so as to reduce overfitting.\n",
    "\n",
    "Subsequently, we'll build the original **LeNet-5 model**, train it and then use it to predict the label of the handwritten digits. \n",
    "\n",
    "We can take a step further by modifying the LeNet-5 model using several techniques to speed up training, avoid overfitting and improve generalization."
   ]
  },
  {
   "cell_type": "markdown",
   "id": "49ddcbcc",
   "metadata": {},
   "source": [
    "---"
   ]
  },
  {
   "cell_type": "markdown",
   "id": "f2ad91ee",
   "metadata": {},
   "source": [
    "<a class=\"anchor\" id=\"section-two\"></a>\n",
    "## 2. Get Data\n",
    "\n",
    "* Load the training and test data.\n",
    "* Normalize the images to a range from 0 to 1.\n",
    "* Reshape the data into a 3D array."
   ]
  },
  {
   "cell_type": "code",
   "execution_count": 1,
   "id": "38c97121",
   "metadata": {},
   "outputs": [],
   "source": [
    "# Import libraries\n",
    "\n",
    "import os\n",
    "import pandas as pd\n",
    "import numpy as np\n",
    "import seaborn as sns\n",
    "from matplotlib import pyplot as plt\n",
    "\n",
    "import tensorflow as tf\n",
    "from tensorflow import keras\n",
    "from keras.utils.np_utils import to_categorical\n",
    "from sklearn.model_selection import train_test_split"
   ]
  },
  {
   "cell_type": "code",
   "execution_count": 2,
   "id": "25dd969d",
   "metadata": {},
   "outputs": [],
   "source": [
    "# Read the CSV file\n",
    "\n",
    "file1 = 'train.csv'\n",
    "file2 = 'test.csv'\n",
    "\n",
    "train_data = pd.read_csv(file1)\n",
    "test_data = pd.read_csv(file2)"
   ]
  },
  {
   "cell_type": "code",
   "execution_count": 3,
   "id": "80ec51d6",
   "metadata": {},
   "outputs": [],
   "source": [
    "# Set the X and y variables\n",
    "\n",
    "X_train = train_data[train_data.columns[~train_data.columns.isin(['label'])]].copy()\n",
    "y_train = train_data['label'].copy()"
   ]
  },
  {
   "cell_type": "code",
   "execution_count": 4,
   "id": "a489675c",
   "metadata": {},
   "outputs": [],
   "source": [
    "# Normalize the images by dividing by the 255 pixel values to get a range from 0 to 1\n",
    "\n",
    "X_train = X_train / 255.\n",
    "X_test = test_data / 255."
   ]
  },
  {
   "cell_type": "code",
   "execution_count": 5,
   "id": "92882bd5",
   "metadata": {},
   "outputs": [],
   "source": [
    "# Reshape the data into a 3D array as an input for the model later\n",
    "\n",
    "X_train = X_train.values.reshape(-1, 28, 28, 1)\n",
    "X_test = X_test.values.reshape(-1, 28, 28, 1)"
   ]
  },
  {
   "cell_type": "code",
   "execution_count": 6,
   "id": "173aa256",
   "metadata": {},
   "outputs": [],
   "source": [
    "# Convert to categorical variables\n",
    "\n",
    "y_train = to_categorical(y_train, num_classes = 10)"
   ]
  },
  {
   "cell_type": "code",
   "execution_count": 7,
   "id": "ace06255",
   "metadata": {},
   "outputs": [],
   "source": [
    "# Split into training and validation sets\n",
    "\n",
    "X_train, X_val, y_train, y_val = train_test_split(X_train, y_train, test_size = 0.25, random_state = 3)"
   ]
  },
  {
   "cell_type": "markdown",
   "id": "efa93010",
   "metadata": {},
   "source": [
    "---"
   ]
  },
  {
   "cell_type": "markdown",
   "id": "054f2d00",
   "metadata": {},
   "source": [
    "<a class=\"anchor\" id=\"section-three\"></a>\n",
    "## 3. Discover & Visualize Data \n",
    "\n",
    "* Take a look at the digits from the training set."
   ]
  },
  {
   "cell_type": "code",
   "execution_count": 8,
   "id": "26b0f098",
   "metadata": {},
   "outputs": [],
   "source": [
    "# Create a function to plot the digits\n",
    "\n",
    "def view_digits(data):\n",
    "    plt.figure(figsize=(20, 5))\n",
    "    for i in range(30):\n",
    "        plt.subplot(3, 10, i + 1)\n",
    "        plt.imshow(data[i], cmap = plt.cm.binary)\n",
    "        plt.axis('off')\n",
    "    plt.show()"
   ]
  },
  {
   "cell_type": "code",
   "execution_count": 9,
   "id": "8165651f",
   "metadata": {},
   "outputs": [
    {
     "data": {
      "image/png": "[encoded data removed]",
      "text/plain": [
       "<Figure size 2000x500 with 30 Axes>"
      ]
     },
     "metadata": {},
     "output_type": "display_data"
    }
   ],
   "source": [
    "# Take a look at the first 30 digits\n",
    "\n",
    "view_digits(X_train)"
   ]
  },
  {
   "cell_type": "markdown",
   "id": "2fbebf49",
   "metadata": {},
   "source": [
    "---"
   ]
  },
  {
   "cell_type": "markdown",
   "id": "aa852dc3",
   "metadata": {},
   "source": [
    "<a class=\"anchor\" id=\"section-four\"></a>\n",
    "## 4. Train Model\n",
    "\n",
    "* Build the LeNet-5 model.\n",
    "* Train the LeNet-5 model and apply early stopping."
   ]
  },
  {
   "cell_type": "markdown",
   "id": "df139533",
   "metadata": {},
   "source": [
    "### Understanding the LeNet-5 Architecture:\n",
    "\n",
    "In 1998, Yann LeCun, Léon Bottou, Yoshua Bengio and Pattrick Haffner introduced a CNN structure called LeNet-5. It quickly became one of the most well known models in the field of computer vision.\n",
    "\n",
    "The LeNet-5 is a neural network that is composed of **five layers** with learnable parameters, hence the name. Of the five layers, there are **three 5x5 convolution** layers and **two 2x2 pooling** layers. Stacked on top of these five layers are **two fully connected** layers. As for the activation function, we used tanh for all the layers except the final layer which uses softmax.\n",
    "\n",
    "Next, we compile the model using the adam optimizer and categorical cross-entropy cost function. This helps us to  penalize bad predictions more, thus allowing the model to converge faster. Finally, we implemented **early stopping** to stop training at minimum validation error."
   ]
  },
  {
   "cell_type": "code",
   "execution_count": 10,
   "id": "284de75e",
   "metadata": {},
   "outputs": [],
   "source": [
    "# Import libraries\n",
    "\n",
    "from keras.models import Sequential\n",
    "from keras.layers import Conv2D, AveragePooling2D, Activation, Flatten, Dense\n",
    "from keras.losses import categorical_crossentropy\n",
    "from keras.callbacks import EarlyStopping, ModelCheckpoint"
   ]
  },
  {
   "cell_type": "code",
   "execution_count": 11,
   "id": "18791bea",
   "metadata": {},
   "outputs": [
    {
     "name": "stdout",
     "output_type": "stream",
     "text": [
      "Metal device set to: Apple M1 Pro\n"
     ]
    },
    {
     "name": "stderr",
     "output_type": "stream",
     "text": [
      "2023-02-04 21:55:13.527139: I tensorflow/core/common_runtime/pluggable_device/pluggable_device_factory.cc:305] Could not identify NUMA node of platform GPU ID 0, defaulting to 0. Your kernel may not have been built with NUMA support.\n",
      "2023-02-04 21:55:13.527272: I tensorflow/core/common_runtime/pluggable_device/pluggable_device_factory.cc:271] Created TensorFlow device (/job:localhost/replica:0/task:0/device:GPU:0 with 0 MB memory) -> physical PluggableDevice (device: 0, name: METAL, pci bus id: <undefined>)\n"
     ]
    }
   ],
   "source": [
    "# Build the LeNet-5 architecture\n",
    "\n",
    "model = Sequential()\n",
    "\n",
    "model.add(Conv2D(6, kernel_size = (5, 5), strides = 1, activation = 'tanh', input_shape = (28, 28, 1), padding = 'same'))\n",
    "model.add(AveragePooling2D(pool_size = (2, 2)))\n",
    "\n",
    "model.add(Conv2D(16, kernel_size = (5, 5), strides = 1, activation = 'tanh', padding = 'valid'))\n",
    "model.add(AveragePooling2D(pool_size = (2, 2)))\n",
    "\n",
    "model.add(Conv2D(120, kernel_size = (5, 5), activation = 'tanh'))\n",
    "\n",
    "model.add(Flatten())\n",
    "model.add(Dense(84, activation = 'tanh'))\n",
    "model.add(Dense(10, activation = 'softmax'))"
   ]
  },
  {
   "cell_type": "code",
   "execution_count": 12,
   "id": "359d8cff",
   "metadata": {},
   "outputs": [],
   "source": [
    "# Compile the model\n",
    "\n",
    "model.compile(optimizer = 'adam', loss = categorical_crossentropy, metrics = ['accuracy'])"
   ]
  },
  {
   "cell_type": "code",
   "execution_count": 13,
   "id": "34f6b288",
   "metadata": {},
   "outputs": [],
   "source": [
    "# Use Early stopping and model checkpoint\n",
    "\n",
    "early_stopping = EarlyStopping(patience = 10)\n",
    "model_checkpoint = ModelCheckpoint('lenet5_model.h5', save_best_only = True)"
   ]
  },
  {
   "cell_type": "code",
   "execution_count": 14,
   "id": "930b9cde",
   "metadata": {},
   "outputs": [
    {
     "name": "stdout",
     "output_type": "stream",
     "text": [
      "Epoch 1/50\n"
     ]
    },
    {
     "name": "stderr",
     "output_type": "stream",
     "text": [
      "2023-02-04 21:55:13.697522: W tensorflow/core/platform/profile_utils/cpu_utils.cc:128] Failed to get CPU frequency: 0 Hz\n",
      "2023-02-04 21:55:13.878017: I tensorflow/core/grappler/optimizers/custom_graph_optimizer_registry.cc:113] Plugin optimizer for device_type GPU is enabled.\n"
     ]
    },
    {
     "name": "stdout",
     "output_type": "stream",
     "text": [
      "493/493 [==============================] - ETA: 0s - loss: 0.3654 - accuracy: 0.8920"
     ]
    },
    {
     "name": "stderr",
     "output_type": "stream",
     "text": [
      "2023-02-04 21:55:21.016147: I tensorflow/core/grappler/optimizers/custom_graph_optimizer_registry.cc:113] Plugin optimizer for device_type GPU is enabled.\n"
     ]
    },
    {
     "name": "stdout",
     "output_type": "stream",
     "text": [
      "493/493 [==============================] - 8s 16ms/step - loss: 0.3654 - accuracy: 0.8920 - val_loss: 0.2023 - val_accuracy: 0.9367\n",
      "Epoch 2/50\n",
      "493/493 [==============================] - 8s 16ms/step - loss: 0.1464 - accuracy: 0.9554 - val_loss: 0.1313 - val_accuracy: 0.9595\n",
      "Epoch 3/50\n",
      "493/493 [==============================] - 8s 16ms/step - loss: 0.0988 - accuracy: 0.9697 - val_loss: 0.0963 - val_accuracy: 0.9709\n",
      "Epoch 4/50\n",
      "493/493 [==============================] - 8s 16ms/step - loss: 0.0725 - accuracy: 0.9784 - val_loss: 0.0886 - val_accuracy: 0.9721\n",
      "Epoch 5/50\n",
      "493/493 [==============================] - 8s 16ms/step - loss: 0.0572 - accuracy: 0.9826 - val_loss: 0.0665 - val_accuracy: 0.9784\n",
      "Epoch 6/50\n",
      "493/493 [==============================] - 8s 16ms/step - loss: 0.0427 - accuracy: 0.9873 - val_loss: 0.0647 - val_accuracy: 0.9788\n",
      "Epoch 7/50\n",
      "493/493 [==============================] - 8s 17ms/step - loss: 0.0349 - accuracy: 0.9894 - val_loss: 0.0635 - val_accuracy: 0.9804\n",
      "Epoch 8/50\n",
      "493/493 [==============================] - 8s 17ms/step - loss: 0.0302 - accuracy: 0.9909 - val_loss: 0.0592 - val_accuracy: 0.9815\n",
      "Epoch 9/50\n",
      "493/493 [==============================] - 8s 17ms/step - loss: 0.0252 - accuracy: 0.9919 - val_loss: 0.0551 - val_accuracy: 0.9829\n",
      "Epoch 10/50\n",
      "493/493 [==============================] - 8s 17ms/step - loss: 0.0218 - accuracy: 0.9927 - val_loss: 0.0588 - val_accuracy: 0.9823\n",
      "Epoch 11/50\n",
      "493/493 [==============================] - 8s 17ms/step - loss: 0.0164 - accuracy: 0.9948 - val_loss: 0.0627 - val_accuracy: 0.9815\n",
      "Epoch 12/50\n",
      "493/493 [==============================] - 9s 17ms/step - loss: 0.0130 - accuracy: 0.9962 - val_loss: 0.0712 - val_accuracy: 0.9792\n",
      "Epoch 13/50\n",
      "493/493 [==============================] - 8s 17ms/step - loss: 0.0123 - accuracy: 0.9962 - val_loss: 0.0625 - val_accuracy: 0.9820\n",
      "Epoch 14/50\n",
      "493/493 [==============================] - 8s 17ms/step - loss: 0.0118 - accuracy: 0.9965 - val_loss: 0.0696 - val_accuracy: 0.9804\n",
      "Epoch 15/50\n",
      "493/493 [==============================] - 8s 16ms/step - loss: 0.0069 - accuracy: 0.9979 - val_loss: 0.0596 - val_accuracy: 0.9842\n",
      "Epoch 16/50\n",
      "493/493 [==============================] - 8s 17ms/step - loss: 0.0097 - accuracy: 0.9972 - val_loss: 0.0720 - val_accuracy: 0.9823\n",
      "Epoch 17/50\n",
      "493/493 [==============================] - 8s 17ms/step - loss: 0.0083 - accuracy: 0.9977 - val_loss: 0.0579 - val_accuracy: 0.9839\n",
      "Epoch 18/50\n",
      "493/493 [==============================] - 8s 17ms/step - loss: 0.0064 - accuracy: 0.9982 - val_loss: 0.0671 - val_accuracy: 0.9825\n",
      "Epoch 19/50\n",
      "493/493 [==============================] - 8s 16ms/step - loss: 0.0098 - accuracy: 0.9969 - val_loss: 0.0708 - val_accuracy: 0.9823\n"
     ]
    }
   ],
   "source": [
    "# Train the model\n",
    "\n",
    "history = model.fit(X_train, y_train, batch_size = 64, epochs = 50, validation_data = (X_val, y_val), \n",
    "                    callbacks = [early_stopping, model_checkpoint])"
   ]
  },
  {
   "cell_type": "code",
   "execution_count": 15,
   "id": "b4b83ef7",
   "metadata": {},
   "outputs": [],
   "source": [
    "# Load the best model from model checkpoint\n",
    "\n",
    "model = keras.models.load_model('lenet5_model.h5')"
   ]
  },
  {
   "cell_type": "markdown",
   "id": "0bad5ea1",
   "metadata": {},
   "source": [
    "---"
   ]
  },
  {
   "cell_type": "markdown",
   "id": "10724394",
   "metadata": {},
   "source": [
    "<a class=\"anchor\" id=\"section-five\"></a>\n",
    "## 5. Test Model\n",
    "\n",
    "* Use the model to predict the images in the test set.\n",
    "* Select the index with maximum probability.\n",
    "* Compile predictions and labels into a dataframe for submission."
   ]
  },
  {
   "cell_type": "code",
   "execution_count": 16,
   "id": "77815638",
   "metadata": {},
   "outputs": [
    {
     "name": "stdout",
     "output_type": "stream",
     "text": [
      " 63/875 [=>............................] - ETA: 1s"
     ]
    },
    {
     "name": "stderr",
     "output_type": "stream",
     "text": [
      "2023-02-04 21:57:50.654157: I tensorflow/core/grappler/optimizers/custom_graph_optimizer_registry.cc:113] Plugin optimizer for device_type GPU is enabled.\n"
     ]
    },
    {
     "name": "stdout",
     "output_type": "stream",
     "text": [
      "875/875 [==============================] - 2s 2ms/step\n"
     ]
    },
    {
     "data": {
      "text/plain": [
       "array([[2.98331338e-06, 1.22432471e-06, 9.99961257e-01, ...,\n",
       "        9.05545312e-06, 5.71429564e-06, 2.14026227e-06],\n",
       "       [9.99982953e-01, 1.60037725e-08, 6.08167966e-06, ...,\n",
       "        3.69542136e-07, 1.73514934e-07, 1.29779357e-06],\n",
       "       [8.80813900e-07, 9.98681003e-07, 9.81518042e-07, ...,\n",
       "        1.15769967e-06, 1.02690559e-04, 9.99668837e-01],\n",
       "       ...,\n",
       "       [2.01633465e-08, 4.73146144e-07, 2.93082110e-07, ...,\n",
       "        8.86151611e-07, 2.39956444e-06, 8.05288255e-06],\n",
       "       [1.49770881e-06, 1.17218292e-06, 2.58766681e-06, ...,\n",
       "        1.15746385e-04, 8.54067548e-06, 9.94079471e-01],\n",
       "       [7.05971445e-07, 6.69807650e-06, 9.99960899e-01, ...,\n",
       "        2.64702265e-07, 8.52614357e-06, 1.03248362e-06]], dtype=float32)"
      ]
     },
     "execution_count": 16,
     "metadata": {},
     "output_type": "execute_result"
    }
   ],
   "source": [
    "# Get predictions\n",
    "\n",
    "pred = model.predict(X_test)\n",
    "\n",
    "pred"
   ]
  },
  {
   "cell_type": "code",
   "execution_count": 17,
   "id": "a0b9b4be",
   "metadata": {},
   "outputs": [],
   "source": [
    "# Select index with maximum probability and convert to 1D array\n",
    "\n",
    "pred = np.argmax(pred, axis = 1)\n",
    "pred = pd.Series(pred, name = \"Label\")"
   ]
  },
  {
   "cell_type": "code",
   "execution_count": 18,
   "id": "ea593276",
   "metadata": {},
   "outputs": [
    {
     "data": {
      "text/html": [
       "<div>\n",
       "<style scoped>\n",
       "    .dataframe tbody tr th:only-of-type {\n",
       "        vertical-align: middle;\n",
       "    }\n",
       "\n",
       "    .dataframe tbody tr th {\n",
       "        vertical-align: top;\n",
       "    }\n",
       "\n",
       "    .dataframe thead th {\n",
       "        text-align: right;\n",
       "    }\n",
       "</style>\n",
       "<table border=\"1\" class=\"dataframe\">\n",
       "  <thead>\n",
       "    <tr style=\"text-align: right;\">\n",
       "      <th></th>\n",
       "      <th>ImageId</th>\n",
       "      <th>Label</th>\n",
       "    </tr>\n",
       "  </thead>\n",
       "  <tbody>\n",
       "    <tr>\n",
       "      <th>0</th>\n",
       "      <td>1</td>\n",
       "      <td>2</td>\n",
       "    </tr>\n",
       "    <tr>\n",
       "      <th>1</th>\n",
       "      <td>2</td>\n",
       "      <td>0</td>\n",
       "    </tr>\n",
       "    <tr>\n",
       "      <th>2</th>\n",
       "      <td>3</td>\n",
       "      <td>9</td>\n",
       "    </tr>\n",
       "    <tr>\n",
       "      <th>3</th>\n",
       "      <td>4</td>\n",
       "      <td>9</td>\n",
       "    </tr>\n",
       "    <tr>\n",
       "      <th>4</th>\n",
       "      <td>5</td>\n",
       "      <td>3</td>\n",
       "    </tr>\n",
       "    <tr>\n",
       "      <th>5</th>\n",
       "      <td>6</td>\n",
       "      <td>7</td>\n",
       "    </tr>\n",
       "    <tr>\n",
       "      <th>6</th>\n",
       "      <td>7</td>\n",
       "      <td>0</td>\n",
       "    </tr>\n",
       "    <tr>\n",
       "      <th>7</th>\n",
       "      <td>8</td>\n",
       "      <td>3</td>\n",
       "    </tr>\n",
       "    <tr>\n",
       "      <th>8</th>\n",
       "      <td>9</td>\n",
       "      <td>0</td>\n",
       "    </tr>\n",
       "    <tr>\n",
       "      <th>9</th>\n",
       "      <td>10</td>\n",
       "      <td>3</td>\n",
       "    </tr>\n",
       "    <tr>\n",
       "      <th>10</th>\n",
       "      <td>11</td>\n",
       "      <td>5</td>\n",
       "    </tr>\n",
       "    <tr>\n",
       "      <th>11</th>\n",
       "      <td>12</td>\n",
       "      <td>7</td>\n",
       "    </tr>\n",
       "    <tr>\n",
       "      <th>12</th>\n",
       "      <td>13</td>\n",
       "      <td>4</td>\n",
       "    </tr>\n",
       "    <tr>\n",
       "      <th>13</th>\n",
       "      <td>14</td>\n",
       "      <td>0</td>\n",
       "    </tr>\n",
       "    <tr>\n",
       "      <th>14</th>\n",
       "      <td>15</td>\n",
       "      <td>4</td>\n",
       "    </tr>\n",
       "    <tr>\n",
       "      <th>15</th>\n",
       "      <td>16</td>\n",
       "      <td>3</td>\n",
       "    </tr>\n",
       "    <tr>\n",
       "      <th>16</th>\n",
       "      <td>17</td>\n",
       "      <td>3</td>\n",
       "    </tr>\n",
       "    <tr>\n",
       "      <th>17</th>\n",
       "      <td>18</td>\n",
       "      <td>1</td>\n",
       "    </tr>\n",
       "    <tr>\n",
       "      <th>18</th>\n",
       "      <td>19</td>\n",
       "      <td>9</td>\n",
       "    </tr>\n",
       "    <tr>\n",
       "      <th>19</th>\n",
       "      <td>20</td>\n",
       "      <td>0</td>\n",
       "    </tr>\n",
       "    <tr>\n",
       "      <th>20</th>\n",
       "      <td>21</td>\n",
       "      <td>9</td>\n",
       "    </tr>\n",
       "    <tr>\n",
       "      <th>21</th>\n",
       "      <td>22</td>\n",
       "      <td>1</td>\n",
       "    </tr>\n",
       "    <tr>\n",
       "      <th>22</th>\n",
       "      <td>23</td>\n",
       "      <td>1</td>\n",
       "    </tr>\n",
       "    <tr>\n",
       "      <th>23</th>\n",
       "      <td>24</td>\n",
       "      <td>5</td>\n",
       "    </tr>\n",
       "    <tr>\n",
       "      <th>24</th>\n",
       "      <td>25</td>\n",
       "      <td>7</td>\n",
       "    </tr>\n",
       "    <tr>\n",
       "      <th>25</th>\n",
       "      <td>26</td>\n",
       "      <td>4</td>\n",
       "    </tr>\n",
       "    <tr>\n",
       "      <th>26</th>\n",
       "      <td>27</td>\n",
       "      <td>2</td>\n",
       "    </tr>\n",
       "    <tr>\n",
       "      <th>27</th>\n",
       "      <td>28</td>\n",
       "      <td>7</td>\n",
       "    </tr>\n",
       "    <tr>\n",
       "      <th>28</th>\n",
       "      <td>29</td>\n",
       "      <td>4</td>\n",
       "    </tr>\n",
       "    <tr>\n",
       "      <th>29</th>\n",
       "      <td>30</td>\n",
       "      <td>7</td>\n",
       "    </tr>\n",
       "  </tbody>\n",
       "</table>\n",
       "</div>"
      ],
      "text/plain": [
       "    ImageId  Label\n",
       "0         1      2\n",
       "1         2      0\n",
       "2         3      9\n",
       "3         4      9\n",
       "4         5      3\n",
       "5         6      7\n",
       "6         7      0\n",
       "7         8      3\n",
       "8         9      0\n",
       "9        10      3\n",
       "10       11      5\n",
       "11       12      7\n",
       "12       13      4\n",
       "13       14      0\n",
       "14       15      4\n",
       "15       16      3\n",
       "16       17      3\n",
       "17       18      1\n",
       "18       19      9\n",
       "19       20      0\n",
       "20       21      9\n",
       "21       22      1\n",
       "22       23      1\n",
       "23       24      5\n",
       "24       25      7\n",
       "25       26      4\n",
       "26       27      2\n",
       "27       28      7\n",
       "28       29      4\n",
       "29       30      7"
      ]
     },
     "execution_count": 18,
     "metadata": {},
     "output_type": "execute_result"
    }
   ],
   "source": [
    "# Compile predictions into a table \n",
    "\n",
    "submit_df = pd.DataFrame(columns = ['ImageId', 'Label'])\n",
    "submit_df['ImageId'] = pd.Series(range(1, 28001), name = \"ImageId\")\n",
    "submit_df['Label'] = pred\n",
    "\n",
    "# Save file \n",
    "submit_df.to_csv('submissions1.csv', header = True, index = False)\n",
    "submit_df.head(30)"
   ]
  },
  {
   "cell_type": "code",
   "execution_count": 19,
   "id": "1eba850a",
   "metadata": {},
   "outputs": [
    {
     "data": {
      "image/png": "[encoded data removed]",
      "text/plain": [
       "<Figure size 2000x500 with 30 Axes>"
      ]
     },
     "metadata": {},
     "output_type": "display_data"
    }
   ],
   "source": [
    "# Take a look at the first 30 actual digits\n",
    "\n",
    "view_digits(X_test)"
   ]
  },
  {
   "cell_type": "markdown",
   "id": "72cc9be4",
   "metadata": {},
   "source": [
    "### Observations: \n",
    "\n",
    "* Looking at the first 30 digits of the test set, we can see one misprediction (at ImageId 3) where 0 is predicted to be a 9.\n",
    "* This means that the model is overfitting and is likely to mispredict other digits in the test set."
   ]
  },
  {
   "cell_type": "markdown",
   "id": "ed5684f3",
   "metadata": {},
   "source": [
    "---"
   ]
  },
  {
   "cell_type": "markdown",
   "id": "c2f3e25f",
   "metadata": {},
   "source": [
    "<a class=\"anchor\" id=\"section-six\"></a>\n",
    "## 6. A Step Further\n",
    "\n",
    "* In order to prevent overfitting, the following regularization techniques were used:\n",
    "    * Data augmentation\n",
    "    * Batch normalization\n",
    "    * Dropout\n",
    "* Other techniques that were used to improve the general performance of the model:\n",
    "    * ReLU activation function\n",
    "    * Max pooling\n",
    "    * Two 3x3 convolution layers"
   ]
  },
  {
   "cell_type": "markdown",
   "id": "62ebfd20",
   "metadata": {},
   "source": [
    "### Understanding Data Augmentation:\n",
    "\n",
    "**Data augmentation** is a regularization technique that creates new training samples by making slight variations in the orientation, position and size of the images.\n",
    "\n",
    "We will use the **image data generator** to **rotate, zoom and shift** the height and width of our images. We **disabled horizontal and vertical flip** to avoid mixing up certain digits like 6 and 9.\n",
    "\n",
    "In short, data agumentation improves the general performance of the model by **reducing overfitting** and **increasing generalization**."
   ]
  },
  {
   "cell_type": "code",
   "execution_count": 20,
   "id": "b3bb1197",
   "metadata": {},
   "outputs": [],
   "source": [
    "# Import libraries\n",
    "\n",
    "from keras.preprocessing.image import ImageDataGenerator"
   ]
  },
  {
   "cell_type": "code",
   "execution_count": 21,
   "id": "765cfbf6",
   "metadata": {},
   "outputs": [],
   "source": [
    "# Augment the digits\n",
    "\n",
    "datagen = ImageDataGenerator(\n",
    "    rotation_range = 10,\n",
    "    height_shift_range = .1,\n",
    "    width_shift_range = .1,\n",
    "    zoom_range = .1, \n",
    "    horizontal_flip = False,\n",
    "    vertical_flip = False\n",
    ")"
   ]
  },
  {
   "cell_type": "code",
   "execution_count": 22,
   "id": "a901ce8a",
   "metadata": {},
   "outputs": [
    {
     "data": {
      "image/png": "[encoded data removed]",
      "text/plain": [
       "<Figure size 2000x500 with 30 Axes>"
      ]
     },
     "metadata": {},
     "output_type": "display_data"
    }
   ],
   "source": [
    "# Take a look at the first 13 augmented digits\n",
    "\n",
    "datagen.fit(X_train)\n",
    "\n",
    "for X_batch, y_batch in datagen.flow(X_train, y_train, batch_size = 32):\n",
    "    view_digits(X_batch)\n",
    "    break"
   ]
  },
  {
   "cell_type": "markdown",
   "id": "acca554a",
   "metadata": {},
   "source": [
    "### Understanding the Modified LeNet-5 Architecture:\n",
    "\n",
    "This model is very similar to the LeNet-5 model above but with several adjustments.\n",
    "\n",
    "**Batch normalization** is added after the activation function of each hidden layer. This allows the model to learn the mean and scale of each layer's inputs. To prevent overfitting, we also applied **dropout** to the top two layers (excluding output layer). A dropout rate of 0.5 means that, at each training step, neurons have a 50% probability of being ignored.\n",
    "\n",
    "The following changes were made to improve the model's performance. We changed the activation function from tanh to **ReLU** because it converges much faster. Average pooling was also replaced with **max pooling**. Finally, we used **two 3x3 kernels** instead of one 5x5 kernel because it has less parameters and extracts more complex features."
   ]
  },
  {
   "cell_type": "code",
   "execution_count": 23,
   "id": "fe6276a7",
   "metadata": {},
   "outputs": [],
   "source": [
    "# Import libraries\n",
    "\n",
    "from keras.layers import BatchNormalization, MaxPooling2D, Dropout"
   ]
  },
  {
   "cell_type": "code",
   "execution_count": 24,
   "id": "5c0ffe47",
   "metadata": {},
   "outputs": [],
   "source": [
    "# Build the modified LeNet-5 architecture\n",
    "\n",
    "model2 = Sequential()\n",
    "\n",
    "model2.add(Conv2D(6, kernel_size = (3, 3), strides = 1, activation = 'relu', input_shape = (28, 28, 1), padding = 'same'))\n",
    "model2.add(BatchNormalization())\n",
    "model2.add(Conv2D(6, kernel_size = (3, 3), strides = 1, activation = 'relu', padding = 'same'))\n",
    "model2.add(BatchNormalization())\n",
    "model2.add(MaxPooling2D(pool_size = (2, 2)))\n",
    "model2.add(BatchNormalization())\n",
    "\n",
    "model2.add(Conv2D(16, kernel_size = (3, 3), strides = 1, activation = 'relu', padding = 'valid'))\n",
    "model2.add(BatchNormalization())\n",
    "model2.add(Conv2D(16, kernel_size = (3, 3), strides = 1, activation = 'relu', padding = 'valid'))\n",
    "model2.add(BatchNormalization())\n",
    "model2.add(MaxPooling2D(pool_size = (2, 2)))\n",
    "model2.add(BatchNormalization())\n",
    "\n",
    "model2.add(Conv2D(120, kernel_size = (5, 5), activation = 'relu'))\n",
    "model2.add(BatchNormalization())\n",
    "\n",
    "model2.add(Flatten())\n",
    "model2.add(Dropout(0.5))\n",
    "model2.add(Dense(84, activation = 'relu'))\n",
    "model2.add(Dropout(0.5))\n",
    "model2.add(Dense(10, activation = 'softmax'))"
   ]
  },
  {
   "cell_type": "code",
   "execution_count": 25,
   "id": "dd5d5238",
   "metadata": {},
   "outputs": [],
   "source": [
    "# Compile the model\n",
    "\n",
    "model2.compile(optimizer = 'adam', loss = categorical_crossentropy, metrics = ['accuracy'])"
   ]
  },
  {
   "cell_type": "code",
   "execution_count": 26,
   "id": "922e87da",
   "metadata": {},
   "outputs": [],
   "source": [
    "# Use Early stopping and model checkpoint\n",
    "\n",
    "early_stopping2 = EarlyStopping(patience = 10)\n",
    "model_checkpoint2 = ModelCheckpoint('lenet5_model2.h5', save_best_only = True)"
   ]
  },
  {
   "cell_type": "code",
   "execution_count": 27,
   "id": "ef324056",
   "metadata": {},
   "outputs": [
    {
     "name": "stdout",
     "output_type": "stream",
     "text": [
      "Epoch 1/50\n"
     ]
    },
    {
     "name": "stderr",
     "output_type": "stream",
     "text": [
      "2023-02-04 21:57:54.160478: I tensorflow/core/grappler/optimizers/custom_graph_optimizer_registry.cc:113] Plugin optimizer for device_type GPU is enabled.\n"
     ]
    },
    {
     "name": "stdout",
     "output_type": "stream",
     "text": [
      "493/493 [==============================] - ETA: 0s - loss: 0.4354 - accuracy: 0.8714"
     ]
    },
    {
     "name": "stderr",
     "output_type": "stream",
     "text": [
      "2023-02-04 21:58:05.963649: I tensorflow/core/grappler/optimizers/custom_graph_optimizer_registry.cc:113] Plugin optimizer for device_type GPU is enabled.\n"
     ]
    },
    {
     "name": "stdout",
     "output_type": "stream",
     "text": [
      "493/493 [==============================] - 14s 26ms/step - loss: 0.4354 - accuracy: 0.8714 - val_loss: 0.2012 - val_accuracy: 0.9382\n",
      "Epoch 2/50\n",
      "493/493 [==============================] - 13s 26ms/step - loss: 0.1230 - accuracy: 0.9639 - val_loss: 0.0708 - val_accuracy: 0.9781\n",
      "Epoch 3/50\n",
      "493/493 [==============================] - 13s 26ms/step - loss: 0.0882 - accuracy: 0.9736 - val_loss: 0.0618 - val_accuracy: 0.9811\n",
      "Epoch 4/50\n",
      "493/493 [==============================] - 13s 26ms/step - loss: 0.0725 - accuracy: 0.9787 - val_loss: 0.0579 - val_accuracy: 0.9825\n",
      "Epoch 5/50\n",
      "493/493 [==============================] - 12s 25ms/step - loss: 0.0590 - accuracy: 0.9826 - val_loss: 0.0609 - val_accuracy: 0.9817\n",
      "Epoch 6/50\n",
      "493/493 [==============================] - 13s 25ms/step - loss: 0.0573 - accuracy: 0.9831 - val_loss: 0.0557 - val_accuracy: 0.9838\n",
      "Epoch 7/50\n",
      "493/493 [==============================] - 13s 26ms/step - loss: 0.0475 - accuracy: 0.9859 - val_loss: 0.0502 - val_accuracy: 0.9854\n",
      "Epoch 8/50\n",
      "493/493 [==============================] - 12s 25ms/step - loss: 0.0457 - accuracy: 0.9861 - val_loss: 0.0502 - val_accuracy: 0.9850\n",
      "Epoch 9/50\n",
      "493/493 [==============================] - 12s 25ms/step - loss: 0.0404 - accuracy: 0.9877 - val_loss: 0.0480 - val_accuracy: 0.9858\n",
      "Epoch 10/50\n",
      "493/493 [==============================] - 12s 25ms/step - loss: 0.0386 - accuracy: 0.9880 - val_loss: 0.0573 - val_accuracy: 0.9842\n",
      "Epoch 11/50\n",
      "493/493 [==============================] - 13s 26ms/step - loss: 0.0351 - accuracy: 0.9905 - val_loss: 0.0524 - val_accuracy: 0.9856\n",
      "Epoch 12/50\n",
      "493/493 [==============================] - 13s 26ms/step - loss: 0.0333 - accuracy: 0.9895 - val_loss: 0.0535 - val_accuracy: 0.9860\n",
      "Epoch 13/50\n",
      "493/493 [==============================] - 13s 26ms/step - loss: 0.0317 - accuracy: 0.9898 - val_loss: 0.0522 - val_accuracy: 0.9850\n",
      "Epoch 14/50\n",
      "493/493 [==============================] - 13s 25ms/step - loss: 0.0314 - accuracy: 0.9897 - val_loss: 0.0410 - val_accuracy: 0.9881\n",
      "Epoch 15/50\n",
      "493/493 [==============================] - 13s 26ms/step - loss: 0.0257 - accuracy: 0.9921 - val_loss: 0.0518 - val_accuracy: 0.9857\n",
      "Epoch 16/50\n",
      "493/493 [==============================] - 13s 26ms/step - loss: 0.0362 - accuracy: 0.9891 - val_loss: 0.0528 - val_accuracy: 0.9850\n",
      "Epoch 17/50\n",
      "493/493 [==============================] - 13s 26ms/step - loss: 0.0259 - accuracy: 0.9923 - val_loss: 0.0524 - val_accuracy: 0.9861\n",
      "Epoch 18/50\n",
      "493/493 [==============================] - 13s 26ms/step - loss: 0.0225 - accuracy: 0.9927 - val_loss: 0.0462 - val_accuracy: 0.9880\n",
      "Epoch 19/50\n",
      "493/493 [==============================] - 12s 25ms/step - loss: 0.0258 - accuracy: 0.9922 - val_loss: 0.0618 - val_accuracy: 0.9830\n",
      "Epoch 20/50\n",
      "493/493 [==============================] - 13s 26ms/step - loss: 0.0423 - accuracy: 0.9874 - val_loss: 0.0537 - val_accuracy: 0.9861\n",
      "Epoch 21/50\n",
      "493/493 [==============================] - 13s 26ms/step - loss: 0.0221 - accuracy: 0.9932 - val_loss: 0.0438 - val_accuracy: 0.9880\n",
      "Epoch 22/50\n",
      "493/493 [==============================] - 13s 26ms/step - loss: 0.0163 - accuracy: 0.9948 - val_loss: 0.0500 - val_accuracy: 0.9872\n",
      "Epoch 23/50\n",
      "493/493 [==============================] - 13s 26ms/step - loss: 0.0189 - accuracy: 0.9938 - val_loss: 0.0523 - val_accuracy: 0.9869\n",
      "Epoch 24/50\n",
      "493/493 [==============================] - 13s 26ms/step - loss: 0.0211 - accuracy: 0.9937 - val_loss: 0.0485 - val_accuracy: 0.9876\n"
     ]
    }
   ],
   "source": [
    "# Train the model\n",
    "\n",
    "history = model2.fit(X_train, y_train, batch_size = 64, epochs = 50, validation_data = (X_val, y_val), \n",
    "                     callbacks = [early_stopping2, model_checkpoint2])"
   ]
  },
  {
   "cell_type": "code",
   "execution_count": 28,
   "id": "96832499",
   "metadata": {},
   "outputs": [],
   "source": [
    "# Load the best model from model checkpoint\n",
    "\n",
    "model2 = keras.models.load_model('lenet5_model2.h5')"
   ]
  },
  {
   "cell_type": "code",
   "execution_count": 29,
   "id": "8ad81b40",
   "metadata": {},
   "outputs": [
    {
     "name": "stdout",
     "output_type": "stream",
     "text": [
      " 32/875 [>.............................] - ETA: 2s"
     ]
    },
    {
     "name": "stderr",
     "output_type": "stream",
     "text": [
      "2023-02-04 22:02:57.808282: I tensorflow/core/grappler/optimizers/custom_graph_optimizer_registry.cc:113] Plugin optimizer for device_type GPU is enabled.\n"
     ]
    },
    {
     "name": "stdout",
     "output_type": "stream",
     "text": [
      "875/875 [==============================] - 3s 3ms/step\n"
     ]
    },
    {
     "data": {
      "text/plain": [
       "array([[1.2197884e-11, 7.2251019e-09, 9.9999976e-01, ..., 6.7640129e-09,\n",
       "        4.5558899e-09, 3.5727205e-10],\n",
       "       [9.9998260e-01, 2.4149060e-08, 6.2618017e-07, ..., 1.7983336e-07,\n",
       "        6.3679032e-08, 3.8295570e-06],\n",
       "       [1.7473063e-09, 1.9913495e-09, 5.4935310e-07, ..., 5.4918321e-08,\n",
       "        2.0710086e-06, 9.9994195e-01],\n",
       "       ...,\n",
       "       [6.8232334e-18, 9.0424691e-14, 2.9642827e-13, ..., 1.7460502e-11,\n",
       "        1.7509740e-11, 6.3750741e-11],\n",
       "       [1.0132243e-08, 2.1120164e-07, 5.3131623e-07, ..., 5.2345495e-06,\n",
       "        1.1130189e-06, 9.9939978e-01],\n",
       "       [9.4051481e-13, 1.9766999e-10, 1.0000000e+00, ..., 8.1633977e-11,\n",
       "        3.8721812e-09, 1.0780655e-10]], dtype=float32)"
      ]
     },
     "execution_count": 29,
     "metadata": {},
     "output_type": "execute_result"
    }
   ],
   "source": [
    "# Get predictions\n",
    "\n",
    "pred2 = model2.predict(X_test)\n",
    "\n",
    "pred2"
   ]
  },
  {
   "cell_type": "code",
   "execution_count": 30,
   "id": "5b047a34",
   "metadata": {},
   "outputs": [],
   "source": [
    "# Select index with greatest probability and convert to 1D array\n",
    "\n",
    "pred2 = np.argmax(pred2, axis = 1)\n",
    "pred2 = pd.Series(pred2, name = \"Label\")"
   ]
  },
  {
   "cell_type": "code",
   "execution_count": 31,
   "id": "39cbc8d2",
   "metadata": {},
   "outputs": [
    {
     "data": {
      "text/html": [
       "<div>\n",
       "<style scoped>\n",
       "    .dataframe tbody tr th:only-of-type {\n",
       "        vertical-align: middle;\n",
       "    }\n",
       "\n",
       "    .dataframe tbody tr th {\n",
       "        vertical-align: top;\n",
       "    }\n",
       "\n",
       "    .dataframe thead th {\n",
       "        text-align: right;\n",
       "    }\n",
       "</style>\n",
       "<table border=\"1\" class=\"dataframe\">\n",
       "  <thead>\n",
       "    <tr style=\"text-align: right;\">\n",
       "      <th></th>\n",
       "      <th>ImageId</th>\n",
       "      <th>Label</th>\n",
       "    </tr>\n",
       "  </thead>\n",
       "  <tbody>\n",
       "    <tr>\n",
       "      <th>0</th>\n",
       "      <td>1</td>\n",
       "      <td>2</td>\n",
       "    </tr>\n",
       "    <tr>\n",
       "      <th>1</th>\n",
       "      <td>2</td>\n",
       "      <td>0</td>\n",
       "    </tr>\n",
       "    <tr>\n",
       "      <th>2</th>\n",
       "      <td>3</td>\n",
       "      <td>9</td>\n",
       "    </tr>\n",
       "    <tr>\n",
       "      <th>3</th>\n",
       "      <td>4</td>\n",
       "      <td>0</td>\n",
       "    </tr>\n",
       "    <tr>\n",
       "      <th>4</th>\n",
       "      <td>5</td>\n",
       "      <td>3</td>\n",
       "    </tr>\n",
       "    <tr>\n",
       "      <th>5</th>\n",
       "      <td>6</td>\n",
       "      <td>7</td>\n",
       "    </tr>\n",
       "    <tr>\n",
       "      <th>6</th>\n",
       "      <td>7</td>\n",
       "      <td>0</td>\n",
       "    </tr>\n",
       "    <tr>\n",
       "      <th>7</th>\n",
       "      <td>8</td>\n",
       "      <td>3</td>\n",
       "    </tr>\n",
       "    <tr>\n",
       "      <th>8</th>\n",
       "      <td>9</td>\n",
       "      <td>0</td>\n",
       "    </tr>\n",
       "    <tr>\n",
       "      <th>9</th>\n",
       "      <td>10</td>\n",
       "      <td>3</td>\n",
       "    </tr>\n",
       "    <tr>\n",
       "      <th>10</th>\n",
       "      <td>11</td>\n",
       "      <td>5</td>\n",
       "    </tr>\n",
       "    <tr>\n",
       "      <th>11</th>\n",
       "      <td>12</td>\n",
       "      <td>7</td>\n",
       "    </tr>\n",
       "    <tr>\n",
       "      <th>12</th>\n",
       "      <td>13</td>\n",
       "      <td>4</td>\n",
       "    </tr>\n",
       "    <tr>\n",
       "      <th>13</th>\n",
       "      <td>14</td>\n",
       "      <td>0</td>\n",
       "    </tr>\n",
       "    <tr>\n",
       "      <th>14</th>\n",
       "      <td>15</td>\n",
       "      <td>4</td>\n",
       "    </tr>\n",
       "    <tr>\n",
       "      <th>15</th>\n",
       "      <td>16</td>\n",
       "      <td>3</td>\n",
       "    </tr>\n",
       "    <tr>\n",
       "      <th>16</th>\n",
       "      <td>17</td>\n",
       "      <td>3</td>\n",
       "    </tr>\n",
       "    <tr>\n",
       "      <th>17</th>\n",
       "      <td>18</td>\n",
       "      <td>1</td>\n",
       "    </tr>\n",
       "    <tr>\n",
       "      <th>18</th>\n",
       "      <td>19</td>\n",
       "      <td>9</td>\n",
       "    </tr>\n",
       "    <tr>\n",
       "      <th>19</th>\n",
       "      <td>20</td>\n",
       "      <td>0</td>\n",
       "    </tr>\n",
       "    <tr>\n",
       "      <th>20</th>\n",
       "      <td>21</td>\n",
       "      <td>9</td>\n",
       "    </tr>\n",
       "    <tr>\n",
       "      <th>21</th>\n",
       "      <td>22</td>\n",
       "      <td>1</td>\n",
       "    </tr>\n",
       "    <tr>\n",
       "      <th>22</th>\n",
       "      <td>23</td>\n",
       "      <td>1</td>\n",
       "    </tr>\n",
       "    <tr>\n",
       "      <th>23</th>\n",
       "      <td>24</td>\n",
       "      <td>5</td>\n",
       "    </tr>\n",
       "    <tr>\n",
       "      <th>24</th>\n",
       "      <td>25</td>\n",
       "      <td>7</td>\n",
       "    </tr>\n",
       "    <tr>\n",
       "      <th>25</th>\n",
       "      <td>26</td>\n",
       "      <td>4</td>\n",
       "    </tr>\n",
       "    <tr>\n",
       "      <th>26</th>\n",
       "      <td>27</td>\n",
       "      <td>2</td>\n",
       "    </tr>\n",
       "    <tr>\n",
       "      <th>27</th>\n",
       "      <td>28</td>\n",
       "      <td>7</td>\n",
       "    </tr>\n",
       "    <tr>\n",
       "      <th>28</th>\n",
       "      <td>29</td>\n",
       "      <td>4</td>\n",
       "    </tr>\n",
       "    <tr>\n",
       "      <th>29</th>\n",
       "      <td>30</td>\n",
       "      <td>7</td>\n",
       "    </tr>\n",
       "  </tbody>\n",
       "</table>\n",
       "</div>"
      ],
      "text/plain": [
       "    ImageId  Label\n",
       "0         1      2\n",
       "1         2      0\n",
       "2         3      9\n",
       "3         4      0\n",
       "4         5      3\n",
       "5         6      7\n",
       "6         7      0\n",
       "7         8      3\n",
       "8         9      0\n",
       "9        10      3\n",
       "10       11      5\n",
       "11       12      7\n",
       "12       13      4\n",
       "13       14      0\n",
       "14       15      4\n",
       "15       16      3\n",
       "16       17      3\n",
       "17       18      1\n",
       "18       19      9\n",
       "19       20      0\n",
       "20       21      9\n",
       "21       22      1\n",
       "22       23      1\n",
       "23       24      5\n",
       "24       25      7\n",
       "25       26      4\n",
       "26       27      2\n",
       "27       28      7\n",
       "28       29      4\n",
       "29       30      7"
      ]
     },
     "execution_count": 31,
     "metadata": {},
     "output_type": "execute_result"
    }
   ],
   "source": [
    "# Compile pred into a table to be used for submission\n",
    "\n",
    "submit_df2 = pd.DataFrame(columns = ['ImageId', 'Label'])\n",
    "submit_df2['ImageId'] = pd.Series(range(1, 28001), name = \"ImageId\")\n",
    "submit_df2['Label'] = pred2\n",
    "\n",
    "# Save file \n",
    "submit_df2.to_csv('submissions2.csv', header = True, index = False)\n",
    "submit_df2.head(30)"
   ]
  },
  {
   "cell_type": "code",
   "execution_count": 32,
   "id": "a1d79bdb",
   "metadata": {},
   "outputs": [
    {
     "data": {
      "image/png": "[encoded data removed]",
      "text/plain": [
       "<Figure size 2000x500 with 30 Axes>"
      ]
     },
     "metadata": {},
     "output_type": "display_data"
    }
   ],
   "source": [
    "# Take a look at the first 30 actual digits\n",
    "\n",
    "view_digits(X_test)"
   ]
  },
  {
   "cell_type": "markdown",
   "id": "650cd7a2",
   "metadata": {},
   "source": [
    "### Observations:\n",
    "\n",
    "* We scored a slightly lower accuracy (0.9937) compared to the original LeNet-5 model above (0.9969).\n",
    "* But we did decrease validation loss significantly from 0.0708 to 0.0485.\n",
    "* Looking at the first 30 digits of the test set, the modified LeNet-5 model was able to predict the 0 correctly (at Imageid 3)."
   ]
  },
  {
   "cell_type": "markdown",
   "id": "97ede34e",
   "metadata": {},
   "source": [
    "---"
   ]
  },
  {
   "cell_type": "markdown",
   "id": "90dd4b4c",
   "metadata": {},
   "source": [
    "<a class=\"anchor\" id=\"section-seven\"></a>\n",
    "## 7. Conclusion\n",
    "\n",
    "As a whole, this notebook focused on building the LeNet-5 architecture in order to predict the labels of handwritten digits from the MNIST dataset. We explored several regularization techniques like data augmentation, batch normalization, dropout and early stopping. \n",
    "\n",
    "Furthermore, we modified the model by making adjustments to the activation function, pooling layers and kernel size. This was useful in reducing computation costs, preventing overfitting and creating predictions that will generalize better."
   ]
  },
  {
   "cell_type": "markdown",
   "id": "cf35ba93",
   "metadata": {},
   "source": [
    "I post notebooks here on Kaggle and GitHub every week.\n",
    "\n",
    "If you enjoyed this so far, please drop me a follow or an upvote!\n",
    "Also, if you have any questions, feel free to reach out and I'll try my best to help you out :)"
   ]
  },
  {
   "cell_type": "markdown",
   "id": "a8e7e4c8",
   "metadata": {},
   "source": [
    "### References\n",
    "\n",
    "* [Gradient-Based Learning Applied to Document Recognition](http://yann.lecun.com/exdb/publis/pdf/lecun-01a.pdf)\n",
    "* [LeNet with Tensorflow](https://gist.github.com/mrgrhn/c6d2a157ebfc883e462f2d6e2ce2e3ce#file-lenet_tensorflow-ipynb)\n",
    "* [Keras ImageDataGenerator and Data Augmentation](https://pyimagesearch.com/2019/07/08/keras-imagedatagenerator-and-data-augmentation/)"
   ]
  }
 ],
 "metadata": {
  "kernelspec": {
   "display_name": "Python 3.9 (tensorflow)",
   "language": "python",
   "name": "tensorflow"
  },
  "language_info": {
   "codemirror_mode": {
    "name": "ipython",
    "version": 3
   },
   "file_extension": ".py",
   "mimetype": "text/x-python",
   "name": "python",
   "nbconvert_exporter": "python",
   "pygments_lexer": "ipython3",
   "version": "3.9.15"
  }
 },
 "nbformat": 4,
 "nbformat_minor": 5
}
